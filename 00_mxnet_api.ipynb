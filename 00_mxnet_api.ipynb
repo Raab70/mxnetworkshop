{
 "cells": [
  {
   "cell_type": "markdown",
   "metadata": {},
   "source": [
    "# NDArray API example"
   ]
  },
  {
   "cell_type": "markdown",
   "metadata": {},
   "source": [
    "The NDArray API, defined in the ndarray (or simply nd) package, provides imperative tensor operations on CPU/GPU. An NDArray represents a multi-dimensional, fixed-size homogenous array."
   ]
  },
  {
   "cell_type": "code",
   "execution_count": 1,
   "metadata": {},
   "outputs": [],
   "source": [
    "import logging\n",
    "logging.basicConfig(level=logging.WARN)  # disable the verbose INFO messages for cleaner notebook display"
   ]
  },
  {
   "cell_type": "code",
   "execution_count": 2,
   "metadata": {},
   "outputs": [],
   "source": [
    "import mxnet as mx\n",
    "import numpy as np"
   ]
  },
  {
   "cell_type": "code",
   "execution_count": 3,
   "metadata": {},
   "outputs": [],
   "source": [
    "sample_count = 1000\n",
    "train_count = 800\n",
    "valid_count = sample_count - train_count\n",
    "feature_count = 100\n",
    "category_count = 10\n",
    "X = mx.nd.uniform(low=0, high=1, shape=(sample_count,feature_count))\n",
    "Y = mx.nd.empty((sample_count,))"
   ]
  },
  {
   "cell_type": "code",
   "execution_count": 4,
   "metadata": {},
   "outputs": [
    {
     "name": "stdout",
     "output_type": "stream",
     "text": [
      "((1000L, 100L), (1000L,), (800L, 100L), (800L,), (200L, 100L), (200L,))\n"
     ]
    }
   ],
   "source": [
    "for i in range(0, sample_count-1):\n",
    "   Y[i] = np.random.randint(0, category_count)\n",
    "X_train = mx.nd.crop(X, begin=(0,0), end=(train_count, feature_count))\n",
    "Y_train = Y[0:train_count]\n",
    "X_valid = mx.nd.crop(X, begin=(train_count, 0), end=(sample_count, feature_count))\n",
    "Y_valid = Y[train_count:sample_count]\n",
    "print(X.shape, Y.shape, X_train.shape, Y_train.shape, X_valid.shape, Y_valid.shape)"
   ]
  },
  {
   "cell_type": "markdown",
   "metadata": {},
   "source": [
    "# SYmbol API example"
   ]
  },
  {
   "cell_type": "markdown",
   "metadata": {},
   "source": [
    "The Symbol API, defined in the symbol (or simply sym) package, provides neural network graphs and auto-differentiation. A symbol represents a multi-output symbolic expression. They are composited by operators, such as simple matrix operations (e.g. “+”), or a neural network layer (e.g. convolution layer). An operator can take several input variables, produce more than one output variables, and have internal state variables. A variable can be either free, which we can bind with value later, or an output of another symbol."
   ]
  },
  {
   "cell_type": "code",
   "execution_count": 5,
   "metadata": {},
   "outputs": [],
   "source": [
    "data = mx.sym.Variable('data')\n",
    "fc1 = mx.sym.FullyConnected(data, name='fc1', num_hidden=64)\n",
    "relu1 = mx.sym.Activation(fc1, name='relu1', act_type=\"relu\")\n",
    "fc2 = mx.sym.FullyConnected(relu1, name='fc2', num_hidden=category_count)\n",
    "out = mx.sym.SoftmaxOutput(fc2, name='softmax')"
   ]
  },
  {
   "cell_type": "markdown",
   "metadata": {},
   "source": [
    "# Iterator (Data Loading) API example"
   ]
  },
  {
   "cell_type": "markdown",
   "metadata": {},
   "source": [
    "Let’s see how to write an iterator for a new data format. The following iterator can be used to train a symbol whose input data variable has name X_train and input label variable has name Y_train. The iterator also provides information about the batch, including the shapes and name."
   ]
  },
  {
   "cell_type": "code",
   "execution_count": 6,
   "metadata": {},
   "outputs": [],
   "source": [
    "batch = 10\n",
    "train_iter = mx.io.NDArrayIter(data=X_train, label=Y_train, batch_size=batch)\n",
    "val_iter = mx.io.NDArrayIter(data=X_valid, label=Y_valid, batch_size=batch)"
   ]
  },
  {
   "cell_type": "code",
   "execution_count": 7,
   "metadata": {},
   "outputs": [
    {
     "name": "stdout",
     "output_type": "stream",
     "text": [
      "[DataDesc[data,(10, 100L),<type 'numpy.float32'>,NCHW]]\n"
     ]
    }
   ],
   "source": [
    "print(train_iter.provide_data)"
   ]
  },
  {
   "cell_type": "code",
   "execution_count": 8,
   "metadata": {},
   "outputs": [
    {
     "name": "stdout",
     "output_type": "stream",
     "text": [
      "[DataDesc[softmax_label,(10,),<type 'numpy.float32'>,NCHW]]\n"
     ]
    }
   ],
   "source": [
    "print(train_iter.provide_label)"
   ]
  },
  {
   "cell_type": "code",
   "execution_count": 9,
   "metadata": {},
   "outputs": [
    {
     "name": "stdout",
     "output_type": "stream",
     "text": [
      "[DataDesc[data,(10, 100L),<type 'numpy.float32'>,NCHW]]\n"
     ]
    }
   ],
   "source": [
    "print(val_iter.provide_data)"
   ]
  },
  {
   "cell_type": "code",
   "execution_count": 10,
   "metadata": {},
   "outputs": [
    {
     "name": "stdout",
     "output_type": "stream",
     "text": [
      "[DataDesc[softmax_label,(10,),<type 'numpy.float32'>,NCHW]]\n"
     ]
    }
   ],
   "source": [
    "print(val_iter.provide_label)"
   ]
  },
  {
   "cell_type": "markdown",
   "metadata": {},
   "source": [
    "# Module API example"
   ]
  },
  {
   "cell_type": "markdown",
   "metadata": {},
   "source": [
    "The module API, defined in the module (or simply mod) package, provides an intermediate and high-level interface for performing computation with a Symbol. One can roughly think a module is a machine which can execute a program defined by a Symbol."
   ]
  },
  {
   "cell_type": "code",
   "execution_count": 11,
   "metadata": {},
   "outputs": [],
   "source": [
    "nb_epochs=50\n",
    "mod = mx.mod.Module(out)"
   ]
  },
  {
   "cell_type": "code",
   "execution_count": 12,
   "metadata": {},
   "outputs": [],
   "source": [
    "mod.bind(data_shapes=train_iter.provide_data,\n",
    "         label_shapes=train_iter.provide_label)\n",
    "mod.init_params(initializer=mx.init.Xavier(magnitude=2.))\n",
    "mod.init_optimizer(optimizer='sgd', optimizer_params=(('learning_rate', 0.1), ))\n"
   ]
  },
  {
   "cell_type": "markdown",
   "metadata": {},
   "source": [
    "# Train the module"
   ]
  },
  {
   "cell_type": "code",
   "execution_count": 13,
   "metadata": {},
   "outputs": [
    {
     "name": "stderr",
     "output_type": "stream",
     "text": [
      "WARNING:root:Already bound, ignoring bind()\n",
      "/usr/lib/python2.7/dist-packages/mxnet-0.11.0-py2.7.egg/mxnet/module/base_module.py:464: UserWarning: Parameters already initialized and force_init=False. init_params call ignored.\n",
      "  allow_missing=allow_missing, force_init=force_init)\n",
      "WARNING:root:optimizer already initialized, ignoring...\n"
     ]
    },
    {
     "name": "stdout",
     "output_type": "stream",
     "text": [
      "Epoch 0, Training ('accuracy', 0.99)\n",
      "Epoch 1, Training ('accuracy', 0.98875)\n",
      "Epoch 2, Training ('accuracy', 0.99125)\n",
      "Epoch 3, Training ('accuracy', 0.995)\n",
      "Epoch 4, Training ('accuracy', 0.99875)\n",
      "Epoch 5, Training ('accuracy', 0.99625)\n",
      "Epoch 6, Training ('accuracy', 0.99875)\n",
      "Epoch 7, Training ('accuracy', 1.0)\n",
      "Epoch 8, Training ('accuracy', 1.0)\n",
      "Epoch 9, Training ('accuracy', 1.0)\n",
      "Epoch 10, Training ('accuracy', 1.0)\n",
      "Epoch 11, Training ('accuracy', 1.0)\n",
      "Epoch 12, Training ('accuracy', 1.0)\n",
      "Epoch 13, Training ('accuracy', 1.0)\n",
      "Epoch 14, Training ('accuracy', 1.0)\n",
      "Epoch 15, Training ('accuracy', 1.0)\n",
      "Epoch 16, Training ('accuracy', 1.0)\n",
      "Epoch 17, Training ('accuracy', 1.0)\n",
      "Epoch 18, Training ('accuracy', 1.0)\n",
      "Epoch 19, Training ('accuracy', 1.0)\n",
      "Epoch 20, Training ('accuracy', 1.0)\n",
      "Epoch 21, Training ('accuracy', 1.0)\n",
      "Epoch 22, Training ('accuracy', 1.0)\n",
      "Epoch 23, Training ('accuracy', 1.0)\n",
      "Epoch 24, Training ('accuracy', 1.0)\n",
      "Epoch 25, Training ('accuracy', 1.0)\n",
      "Epoch 26, Training ('accuracy', 1.0)\n",
      "Epoch 27, Training ('accuracy', 1.0)\n",
      "Epoch 28, Training ('accuracy', 1.0)\n",
      "Epoch 29, Training ('accuracy', 1.0)\n",
      "Epoch 30, Training ('accuracy', 1.0)\n",
      "Epoch 31, Training ('accuracy', 1.0)\n",
      "Epoch 32, Training ('accuracy', 1.0)\n",
      "Epoch 33, Training ('accuracy', 1.0)\n",
      "Epoch 34, Training ('accuracy', 1.0)\n",
      "Epoch 35, Training ('accuracy', 1.0)\n",
      "Epoch 36, Training ('accuracy', 1.0)\n",
      "Epoch 37, Training ('accuracy', 1.0)\n",
      "Epoch 38, Training ('accuracy', 1.0)\n",
      "Epoch 39, Training ('accuracy', 1.0)\n",
      "Epoch 40, Training ('accuracy', 1.0)\n",
      "Epoch 41, Training ('accuracy', 1.0)\n",
      "Epoch 42, Training ('accuracy', 1.0)\n",
      "Epoch 43, Training ('accuracy', 1.0)\n",
      "Epoch 44, Training ('accuracy', 1.0)\n",
      "Epoch 45, Training ('accuracy', 1.0)\n",
      "Epoch 46, Training ('accuracy', 1.0)\n",
      "Epoch 47, Training ('accuracy', 1.0)\n",
      "Epoch 48, Training ('accuracy', 1.0)\n",
      "Epoch 49, Training ('accuracy', 1.0)\n"
     ]
    }
   ],
   "source": [
    "mod.fit(train_iter, num_epoch=nb_epochs)\n",
    "\n",
    "metric = mx.metric.create('acc')\n",
    "# train 5 epochs, i.e. going over the data iter one pass\n",
    "for epoch in range(nb_epochs):\n",
    "    train_iter.reset()\n",
    "    metric.reset()\n",
    "    for batch in train_iter:\n",
    "        mod.forward(batch, is_train=True)       # compute predictions\n",
    "        mod.update_metric(metric, batch.label)  # accumulate prediction accuracy\n",
    "        mod.backward()                          # compute gradients\n",
    "        mod.update()                            # update parameters\n",
    "    print('Epoch %d, Training %s' % (epoch, metric.get()))"
   ]
  },
  {
   "cell_type": "code",
   "execution_count": 14,
   "metadata": {},
   "outputs": [],
   "source": [
    "mod.save_checkpoint(\"myFirstModel\", nb_epochs)"
   ]
  },
  {
   "cell_type": "code",
   "execution_count": null,
   "metadata": {},
   "outputs": [],
   "source": []
  }
 ],
 "metadata": {
  "kernelspec": {
   "display_name": "Python 2",
   "language": "python",
   "name": "python2"
  },
  "language_info": {
   "codemirror_mode": {
    "name": "ipython",
    "version": 2
   },
   "file_extension": ".py",
   "mimetype": "text/x-python",
   "name": "python",
   "nbconvert_exporter": "python",
   "pygments_lexer": "ipython2",
   "version": "2.7.12"
  }
 },
 "nbformat": 4,
 "nbformat_minor": 2
}
