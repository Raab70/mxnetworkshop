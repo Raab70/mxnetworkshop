{
 "cells": [
  {
   "cell_type": "code",
   "execution_count": null,
   "metadata": {},
   "outputs": [],
   "source": [
    "import mxnet as mx\n",
    "import numpy as np\n",
    "import cv2,sys,time\n",
    "from IPython.display import Image\n",
    "from collections import namedtuple\n",
    "import os"
   ]
  },
  {
   "cell_type": "code",
   "execution_count": null,
   "metadata": {},
   "outputs": [],
   "source": [
    "os.system(\"cp -f ../models/synset.txt .\")\n",
    "os.system(\"cp -f ../models/Inception-BN*.* .\")"
   ]
  },
  {
   "cell_type": "code",
   "execution_count": null,
   "metadata": {},
   "outputs": [],
   "source": [
    "def loadModel(modelname):\n",
    "    sym, arg_params, aux_params = mx.model.load_checkpoint(modelname, 0)\n",
    "    arg_params['prob_label'] = mx.nd.array([0])\n",
    "    mod = mx.mod.Module(symbol=sym)\n",
    "    mod.bind(for_training=False, data_shapes=[('data', (1,3,224,224))])\n",
    "    mod.set_params(arg_params, aux_params)\n",
    "    return mod"
   ]
  },
  {
   "cell_type": "code",
   "execution_count": null,
   "metadata": {},
   "outputs": [],
   "source": [
    "def loadCategories():\n",
    "    synsetfile = open('synset.txt', 'r')\n",
    "    synsets = []\n",
    "    for l in synsetfile:\n",
    "        synsets.append(l.rstrip())\n",
    "    return synsets"
   ]
  },
  {
   "cell_type": "code",
   "execution_count": null,
   "metadata": {},
   "outputs": [],
   "source": [
    "def prepareNDArray(filename):\n",
    "    img = cv2.imread(filename)\n",
    "    img = cv2.cvtColor(img, cv2.COLOR_BGR2RGB)\n",
    "    img = cv2.resize(img, (224, 224,))\n",
    "    img = np.swapaxes(img, 0, 2)\n",
    "    img = np.swapaxes(img, 1, 2)\n",
    "    img = img[np.newaxis, :]\n",
    "    return mx.nd.array(img) "
   ]
  },
  {
   "cell_type": "code",
   "execution_count": null,
   "metadata": {},
   "outputs": [],
   "source": [
    "def predict(filename, model, categories, n):\n",
    "    array = prepareNDArray(filename)\n",
    "    Batch = namedtuple('Batch', ['data'])\n",
    "    t1 = time.time()\n",
    "    model.forward(Batch([array]))\n",
    "    prob = model.get_outputs()[0].asnumpy()\n",
    "    t2 = time.time()\n",
    "    print (t2-t1)\n",
    "    prob = np.squeeze(prob)\n",
    "    sortedprobindex = np.argsort(prob)[::-1]\n",
    "    topn = []\n",
    "    for i in sortedprobindex[0:n]:\n",
    "        topn.append((prob[i], categories[i]))\n",
    "    return topn"
   ]
  },
  {
   "cell_type": "code",
   "execution_count": null,
   "metadata": {},
   "outputs": [],
   "source": [
    "def init(modelname): \n",
    "    model = loadModel(modelname)\n",
    "    cats = loadCategories()\n",
    "    return model, cats"
   ]
  },
  {
   "cell_type": "code",
   "execution_count": null,
   "metadata": {},
   "outputs": [],
   "source": [
    "os.system(\"wget http://ghk.h-cdn.co/assets/17/18/480x720/gallery-gettyimages-462376265.jpg\")\n",
    "filename = \"gallery-gettyimages-462376265.jpg\"\n",
    "Image(filename=filename)"
   ]
  },
  {
   "cell_type": "code",
   "execution_count": null,
   "metadata": {},
   "outputs": [],
   "source": [
    "inceptionv3,c = init(\"Inception-BN\")"
   ]
  },
  {
   "cell_type": "code",
   "execution_count": null,
   "metadata": {},
   "outputs": [],
   "source": [
    "print predict(filename,inceptionv3,c,5)"
   ]
  }
 ],
 "metadata": {
  "kernelspec": {
   "display_name": "Python 2",
   "language": "python",
   "name": "python2"
  },
  "language_info": {
   "codemirror_mode": {
    "name": "ipython",
    "version": 2
   },
   "file_extension": ".py",
   "mimetype": "text/x-python",
   "name": "python",
   "nbconvert_exporter": "python",
   "pygments_lexer": "ipython2",
   "version": "2.7.12"
  }
 },
 "nbformat": 4,
 "nbformat_minor": 2
}
